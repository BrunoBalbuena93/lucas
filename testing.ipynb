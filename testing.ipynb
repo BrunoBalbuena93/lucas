{
 "cells": [
  {
   "cell_type": "markdown",
   "metadata": {},
   "source": [
    "##### Imports"
   ]
  },
  {
   "cell_type": "code",
   "execution_count": 1,
   "metadata": {},
   "outputs": [],
   "source": [
    "import pandas as pd\n",
    "import numpy as np\n",
    "import matplotlib.pyplot as plt\n",
    "import datetime as dt\n",
    "import json\n",
    "\n",
    "import sklearn.linear_model as lm\n",
    "from sklearn import svm\n",
    "from sklearn.model_selection import train_test_split\n",
    "from sklearn.preprocessing import MinMaxScaler\n",
    "\n",
    "from core.collector import Thunder\n",
    "from core.calcs import Fire\n",
    "from records.DBManager import DataManager\n"
   ]
  },
  {
   "cell_type": "markdown",
   "metadata": {},
   "source": [
    "Probando la alerta"
   ]
  },
  {
   "cell_type": "code",
   "execution_count": 2,
   "metadata": {},
   "outputs": [
    {
     "name": "stdout",
     "output_type": "stream",
     "text": [
      "Corriendo en modo de prueba. Sin escritura en DB\n",
      "Collecting btc\n",
      "Collecting eth\n",
      "Collecting xrp\n",
      "Collecting gnt\n",
      "Collecting ltc\n"
     ]
    }
   ],
   "source": [
    "# Settings\n",
    "with open('alert_settings.json', 'r') as f:\n",
    "    settings = json.load(f)\n",
    "metrics = settings['params']\n",
    "metricsValues = [pd.DataFrame(settings[metric]) for metric in metrics]\n",
    "coins = settings['coins']\n",
    "upperLimit = pd.DataFrame([S.loc['over'] for S in metricsValues], index=metrics)\n",
    "lowerLimit = pd.DataFrame([S.loc['under'] for S in metricsValues], index=metrics)\n",
    "db = DataManager(test=True)\n",
    "# Parametros\n",
    "thunder = Thunder()\n",
    "fires = {coin: Fire(coin, thunder.getWindow(coin)) for coin in coins}\n",
    "history = pd.DataFrame([pd.Series({coin: 0 for coin in coins}, name=param) for param in metrics], index=metrics)"
   ]
  },
  {
   "cell_type": "markdown",
   "metadata": {},
   "source": [
    "Stocks"
   ]
  },
  {
   "cell_type": "code",
   "execution_count": 3,
   "metadata": {},
   "outputs": [],
   "source": [
    "df = pd.DataFrame([f.updateData(True) for f in fires.values()]).T.append(pd.Series({coin: db.retrieveValuation(coin) for coin in coins}, name='self'))\n",
    "# Indica si se generan cambios súbitos con respecto a la tendencia actual mediante EMA\n",
    "df.loc['growth'] = (df.loc['price'] - df.loc['ema']) * 100 / df.loc['ema'] if 'growth' in metrics else [0] * len(coins)\n",
    "# Diferencia entre el valor actual y mi valuación\n",
    "df.loc['dif'] = (df.loc['price'] - df.loc['self']) * 100 / df.loc['self'] if 'dif' in metrics else [0] * len(coins)\n",
    "# Comparativa con lo esperado durante 1 día\n",
    "df.loc['day'] = (df.loc['price'] - df.loc['sma']) * 100 / df.loc['sma'] if 'day' in metrics else [0] * len(coins)\n",
    "# Custom que es lo mismo que price\n",
    "df.loc['custom'] = df.loc['price'] if 'custom' in metrics else [0] * len(scoins)"
   ]
  },
  {
   "cell_type": "markdown",
   "metadata": {},
   "source": [
    "Observando los cambios"
   ]
  },
  {
   "cell_type": "code",
   "execution_count": 5,
   "metadata": {},
   "outputs": [
    {
     "name": "stdout",
     "output_type": "stream",
     "text": [
      "Cambios generados:\n",
      "        btc       eth  xrp       gnt       ltc\n",
      "growth  0.0  0.000000  0.0  0.000000   0.00000\n",
      "dif     0.0 -3.054457  0.0  0.000000   0.00000\n",
      "day     0.0  0.000000  0.0  0.000000   0.00000\n",
      "custom  0.0  0.000000  0.0  0.081314  63.04993\n",
      "Historico:\n",
      "        btc       eth  xrp  gnt       ltc\n",
      "growth  0.0  0.000000  0.0  0.0   0.00000\n",
      "dif     0.0 -3.054457  0.0  0.0   0.00000\n",
      "day     0.0  0.000000  0.0  0.0   0.00000\n",
      "custom  0.0  0.000000  0.0  0.0  63.04993\n",
      "Transición:\n",
      "        btc       eth  xrp  gnt       ltc\n",
      "growth  0.0  0.000000  0.0  0.0   0.00000\n",
      "dif     0.0 -3.054457  0.0  0.0   0.00000\n",
      "day     0.0  0.000000  0.0  0.0   0.00000\n",
      "custom  0.0  0.000000  0.0  0.0  63.04993\n",
      "History == transition True\n"
     ]
    }
   ],
   "source": [
    "data = df.loc[metrics]\n",
    "# data = pd.DataFrame({'btc': {'growth': 0.0037667715607046432, 'dif': 2.8085876887970334, 'day': -0.014012371204186302, 'custom': 12302.066}, 'eth': {'growth': -6.43093122084560833, 'dif': -10, 'day': -4.20988613465090547, 'custom': 300}, 'xrp': {'growth': -0.053453004088022255, 'dif': 4.51905907203806, 'day': -0.07332065514759091, 'custom': 0.31730786}, 'gnt': {'growth': 2.2032350524696529, 'dif': 11.32981371796274, 'day': 5.12102855251576536, 'custom': 0.108296285}, 'ltc': {'growth': -0.21071654846305324, 'dif': 0.7092799191096679, 'day': -0.24237467352209074, 'custom': 67.47026}})\n",
    "tol = 0.3\n",
    "up = pd.DataFrame([pd.Series(np.where(data.loc[metric] > upperLimit.loc[metric], data.loc[metric], 0), name=metric) for metric in metrics])\n",
    "down = pd.DataFrame([pd.Series(np.where(-data.loc[metric] > upperLimit.loc[metric], -data.loc[metric], 0), name=metric) if 'custom' not in metric else pd.Series(np.where(data.loc[metric] < lowerLimit.loc[metric], data.loc[metric], 0), name=metric) for metric in metrics])\n",
    "temp = up - down\n",
    "temp.columns = coins\n",
    "# En este punto ya tenemos las cosas que salen del \"control\"\n",
    "print('Cambios generados:\\n{}'.format(temp))\n",
    "transition = pd.DataFrame([pd.Series(np.where(np.abs(temp.loc[metric] - history.loc[metric]) > tol, temp.loc[metric], history.loc[metric]), name=metric) for metric in metrics])\n",
    "transition.columns = coins\n",
    "print('Historico:\\n{}\\nTransición:\\n{}\\nHistory == transition {}'.format(history, transition, history.equals(transition)))\n",
    "historicTemp = history\n",
    "history = transition"
   ]
  },
  {
   "cell_type": "code",
   "execution_count": 18,
   "metadata": {},
   "outputs": [
    {
     "name": "stdout",
     "output_type": "stream",
     "text": [
      "Series([], Name: growth, dtype: float64)\n",
      "eth   -3.054457\n",
      "Name: dif, dtype: float64\n",
      "Series([], Name: day, dtype: float64)\n",
      "ltc    63.04993\n",
      "Name: custom, dtype: float64\n"
     ]
    },
    {
     "data": {
      "text/plain": [
       "[None, None, None, None]"
      ]
     },
     "execution_count": 18,
     "metadata": {},
     "output_type": "execute_result"
    }
   ],
   "source": [
    "[print(row[row != 0]) for _, row in transition.iterrows()]"
   ]
  },
  {
   "cell_type": "markdown",
   "metadata": {},
   "source": [
    "##### Obteniendo data"
   ]
  },
  {
   "cell_type": "code",
   "execution_count": 2,
   "metadata": {},
   "outputs": [
    {
     "name": "stdout",
     "output_type": "stream",
     "text": [
      "Collecting btc\n"
     ]
    }
   ],
   "source": [
    "# df = pd.read_json('data.json')\n",
    "# df = df.dropna(axis=0)\n",
    "thunder = Thunder()\n",
    "df = thunder.getWindow('btc').dropna(axis=0)\n",
    "# Asignando variables\n",
    "tendency = df.apply(lambda x: x[['close', 'open']].mean(), axis=1)\n",
    "df['G'] = (df['close'] - df['open']) * 100 / df[['close', 'open']].iloc[0].mean()\n",
    "\n",
    "dates = np.array(df.index.astype(np.int64))\n",
    "# Escaladores\n",
    "dscaler = MinMaxScaler().fit(dates.reshape(-1, 1))\n",
    "# Tendencia\n",
    "tscaler = MinMaxScaler().fit(tendency.values.reshape(-1, 1))\n",
    "# Cambios\n",
    "gscaler = MinMaxScaler().fit(df['G'].values.reshape(-1, 1))"
   ]
  },
  {
   "cell_type": "markdown",
   "metadata": {},
   "source": [
    "Definiendo indicadores EMA, SMA y MACD"
   ]
  },
  {
   "cell_type": "code",
   "execution_count": 3,
   "metadata": {},
   "outputs": [],
   "source": [
    "def getEMA(window:int, data:pd.Series):\n",
    "    ema = [data[0:window].mean()]\n",
    "    [ema.append(value * (2 / (1 + window)) + ema[-1] * (1 - (2/(1+window)))) for value in data[window:].values]\n",
    "    return pd.Series(ema, index=data.index[window-1:])\n",
    "\n",
    "def getSMA(window: int, data:pd.Series):\n",
    "    sma = [data[i:window + i].mean() for i in range(len(data)-window +1)]\n",
    "    return pd.Series(sma, index=data.index[window-1:])\n",
    "\n",
    "def getMACD(window1: int, window2: int, data: pd.Series):\n",
    "    ema_w1 = getEMA(w1)\n",
    "    ema_w2 = getEMA(w2)[-len(ema_w1):]\n",
    "    macd = pd.Series([(e2 - e1) for (e2, e1) in np.c_[ema_w2.values, ema_w1.values]], index=ema_w1.index)\n",
    "    sigline = getEMA(9, macd)\n",
    "    hist = pd.Series([(e2 - e1) for (e2, e1) in np.c_[macd.values[-len(sigline):], sigline.values]], index=sigline.index)\n",
    "    return macd, sigline, hist\n",
    "    "
   ]
  },
  {
   "cell_type": "markdown",
   "metadata": {},
   "source": [
    "### Proponiendo modelos lineales"
   ]
  },
  {
   "cell_type": "markdown",
   "metadata": {},
   "source": [
    "Bayes unicamente con input de tiempo"
   ]
  },
  {
   "cell_type": "code",
   "execution_count": 4,
   "metadata": {},
   "outputs": [
    {
     "name": "stdout",
     "output_type": "stream",
     "text": [
      "Scaled N:4  train: 0.80874   Test: 0.77730  n_iter: 12\n"
     ]
    }
   ],
   "source": [
    "# Modelo de bayes\n",
    "n = 4\n",
    "N = int(0.8* len(df))\n",
    "x_train_subset = np.array(dates)[0:N]\n",
    "y_train_subset = df['t'].values[0:N]\n",
    "# Scaling and splitting\n",
    "x_train, x_test, y_train, y_test = train_test_split(dscaler.transform(x_train_subset.reshape(-1, 1)), tscaler.transform(y_train_subset.reshape(-1, 1)), test_size=0.4)\n",
    "# Fitting with a cubic poly\n",
    "x_train = np.vander(x_train.reshape(-1), n + 1, increasing=True) \n",
    "x_test = np.vander(x_test.reshape(-1), n +1, increasing=True) \n",
    "# Introducing the model\n",
    "bayRidge = lm.BayesianRidge(n_iter=1000 ,tol=1e-6, compute_score=True)\n",
    "bayRidge.set_params(alpha_init=1, lambda_init=0.001)\n",
    "bayRidge.fit(x_train, y_train.reshape(-1))\n",
    "print('Scaled N:{}  train: {:.5f}   Test: {:.5f}  n_iter: {}'.format(n, bayRidge.score(x_train, y_train.reshape(-1)), bayRidge.score(x_test, y_test.reshape(-1)), bayRidge.n_iter_))\n",
    "# Preparing the plot\n",
    "x = dscaler.transform(dates.reshape(-1, 1)).reshape(-1)\n",
    "x = np.vander(x, n + 1, True)\n",
    "y_bayes_dates = tscaler.inverse_transform(bayRidge.predict(x).reshape(-1, 1))"
   ]
  },
  {
   "cell_type": "markdown",
   "metadata": {},
   "source": [
    "Modelo con SVM con fechas"
   ]
  },
  {
   "cell_type": "code",
   "execution_count": 5,
   "metadata": {},
   "outputs": [
    {
     "name": "stdout",
     "output_type": "stream",
     "text": [
      "rbfSVR train: -0.18243   Test: -0.18165\n"
     ]
    },
    {
     "ename": "ValueError",
     "evalue": "cannot reshape array of size 713 into shape (2)",
     "output_type": "error",
     "traceback": [
      "\u001b[0;31m---------------------------------------------------------------------------\u001b[0m",
      "\u001b[0;31mValueError\u001b[0m                                Traceback (most recent call last)",
      "\u001b[0;32m<ipython-input-5-8451db06bbb0>\u001b[0m in \u001b[0;36m<module>\u001b[0;34m\u001b[0m\n\u001b[1;32m     19\u001b[0m \u001b[0mx\u001b[0m \u001b[0;34m=\u001b[0m \u001b[0mnp\u001b[0m\u001b[0;34m.\u001b[0m\u001b[0mvander\u001b[0m\u001b[0;34m(\u001b[0m\u001b[0mx\u001b[0m\u001b[0;34m,\u001b[0m \u001b[0;36m5\u001b[0m\u001b[0;34m,\u001b[0m \u001b[0;32mTrue\u001b[0m\u001b[0;34m)\u001b[0m\u001b[0;34m\u001b[0m\u001b[0;34m\u001b[0m\u001b[0m\n\u001b[1;32m     20\u001b[0m \u001b[0my_svm_dates\u001b[0m \u001b[0;34m=\u001b[0m \u001b[0mtscaler\u001b[0m\u001b[0;34m.\u001b[0m\u001b[0minverse_transform\u001b[0m\u001b[0;34m(\u001b[0m\u001b[0msvr_rbf\u001b[0m\u001b[0;34m.\u001b[0m\u001b[0mpredict\u001b[0m\u001b[0;34m(\u001b[0m\u001b[0mx\u001b[0m\u001b[0;34m)\u001b[0m\u001b[0;34m.\u001b[0m\u001b[0mreshape\u001b[0m\u001b[0;34m(\u001b[0m\u001b[0;34m-\u001b[0m\u001b[0;36m1\u001b[0m\u001b[0;34m,\u001b[0m \u001b[0;36m1\u001b[0m\u001b[0;34m)\u001b[0m\u001b[0;34m)\u001b[0m \u001b[0;31m#, tscaler.inverse_transform(svr_poly.predict(x).reshape(-1, 1))\u001b[0m\u001b[0;34m\u001b[0m\u001b[0;34m\u001b[0m\u001b[0m\n\u001b[0;32m---> 21\u001b[0;31m \u001b[0mx\u001b[0m \u001b[0;34m=\u001b[0m \u001b[0mdscaler\u001b[0m\u001b[0;34m.\u001b[0m\u001b[0mtransform\u001b[0m\u001b[0;34m(\u001b[0m\u001b[0mdates\u001b[0m\u001b[0;34m[\u001b[0m\u001b[0mN\u001b[0m\u001b[0;34m:\u001b[0m\u001b[0;34m]\u001b[0m\u001b[0;34m.\u001b[0m\u001b[0mreshape\u001b[0m\u001b[0;34m(\u001b[0m\u001b[0;34m-\u001b[0m\u001b[0;36m1\u001b[0m\u001b[0;34m,\u001b[0m \u001b[0;36m2\u001b[0m\u001b[0;34m)\u001b[0m\u001b[0;34m)\u001b[0m\u001b[0;34m.\u001b[0m\u001b[0mreshape\u001b[0m\u001b[0;34m(\u001b[0m\u001b[0;34m-\u001b[0m\u001b[0;36m1\u001b[0m\u001b[0;34m)\u001b[0m\u001b[0;34m\u001b[0m\u001b[0;34m\u001b[0m\u001b[0m\n\u001b[0m\u001b[1;32m     22\u001b[0m \u001b[0mx\u001b[0m \u001b[0;34m=\u001b[0m \u001b[0mnp\u001b[0m\u001b[0;34m.\u001b[0m\u001b[0mvander\u001b[0m\u001b[0;34m(\u001b[0m\u001b[0mx\u001b[0m\u001b[0;34m,\u001b[0m \u001b[0;36m5\u001b[0m\u001b[0;34m,\u001b[0m \u001b[0;32mTrue\u001b[0m\u001b[0;34m)\u001b[0m\u001b[0;34m\u001b[0m\u001b[0;34m\u001b[0m\u001b[0m\n\u001b[1;32m     23\u001b[0m \u001b[0my\u001b[0m \u001b[0;34m=\u001b[0m \u001b[0mtscaler\u001b[0m\u001b[0;34m.\u001b[0m\u001b[0mtransform\u001b[0m\u001b[0;34m(\u001b[0m\u001b[0mdf\u001b[0m\u001b[0;34m[\u001b[0m\u001b[0;34m'tnorm'\u001b[0m\u001b[0;34m]\u001b[0m\u001b[0;34m.\u001b[0m\u001b[0mvalues\u001b[0m\u001b[0;34m[\u001b[0m\u001b[0mN\u001b[0m\u001b[0;34m:\u001b[0m\u001b[0;34m]\u001b[0m\u001b[0;34m.\u001b[0m\u001b[0mreshape\u001b[0m\u001b[0;34m(\u001b[0m\u001b[0;34m-\u001b[0m\u001b[0;36m1\u001b[0m\u001b[0;34m,\u001b[0m \u001b[0;36m1\u001b[0m\u001b[0;34m)\u001b[0m\u001b[0;34m)\u001b[0m\u001b[0;34m.\u001b[0m\u001b[0mreshape\u001b[0m\u001b[0;34m(\u001b[0m\u001b[0;34m-\u001b[0m\u001b[0;36m1\u001b[0m\u001b[0;34m)\u001b[0m\u001b[0;34m\u001b[0m\u001b[0;34m\u001b[0m\u001b[0m\n",
      "\u001b[0;31mValueError\u001b[0m: cannot reshape array of size 713 into shape (2)"
     ]
    }
   ],
   "source": [
    "# Primero, probando con data normal\n",
    "N = int(0.5* len(df))\n",
    "x_train_subset = np.array(dates)[0:N]\n",
    "y_train_subset = df['tnorm'].values[0:N]\n",
    "# Scaling and splitting\n",
    "x_train, x_test, y_train, y_test = train_test_split(dscaler.transform(x_train_subset.reshape(-1, 1)), tscaler.transform(y_train_subset.reshape(-1, 1)), test_size=0.5)\n",
    "# Dandole algo de forma\n",
    "x_train = np.vander(x_train.reshape(-1), 5, increasing=True) \n",
    "x_test = np.vander(x_test.reshape(-1), 5, increasing=True) \n",
    "# Introducing model\n",
    "# svr_poly = svm.SVR(kernel='poly', coef0=0.5, degree=6, C=1000, gamma=0.75)\n",
    "svr_rbf = svm.SVR(kernel='rbf', C=20000, gamma=0.8)\n",
    "# Fitting data\n",
    "# svr_poly.fit(x_train, y_train.reshape(-1))\n",
    "svr_rbf.fit(x_train, y_train.reshape(-1))\n",
    "# print('PolySVR train: {:.5f}   Test: {:.5f}'.format(svr_poly.score(x_train, y_train.reshape(-1)), svr_poly.score(x_test, y_test.reshape(-1))))\n",
    "print('rbfSVR train: {:.5f}   Test: {:.5f}'.format(svr_rbf.score(x_train, y_train.reshape(-1)), svr_rbf.score(x_test, y_test.reshape(-1))))\n",
    "x = dscaler.transform(dates.reshape(-1, 1)).reshape(-1)\n",
    "x = np.vander(x, 5, True)\n",
    "y_svm_dates = tscaler.inverse_transform(svr_rbf.predict(x).reshape(-1, 1)) #, tscaler.inverse_transform(svr_poly.predict(x).reshape(-1, 1))\n",
    "x = dscaler.transform(dates[N:].reshape(-1, 2)).reshape(-1)\n",
    "x = np.vander(x, 5, True)\n",
    "y = tscaler.transform(df['tnorm'].values[N:].reshape(-1, 1)).reshape(-1)\n",
    "print('Real test: {:.5f}'.format(svr_rbf.score(x, y)))"
   ]
  },
  {
   "cell_type": "code",
   "execution_count": null,
   "metadata": {},
   "outputs": [],
   "source": [
    "plt.plot(df.index, df['t'])\n",
    "plt.plot(df.index, y_bayes_dates, label='Bayes date')\n",
    "plt.plot(df.index, y_svm_dates, label='SVM date')\n",
    "plt.vlines(dates[N], -0.1, 0.1)\n",
    "plt.legend(frameon=False)\n",
    "plt.ylim([-0.1, 0.1])\n",
    "plt.xlim([dates[0], dates[int(0.7 * len(df))]])"
   ]
  },
  {
   "cell_type": "markdown",
   "metadata": {},
   "source": [
    "Ingresando los valores t-1 para predecir t\n",
    "Y no, no estamos afectando la parte de time machine paradox.\n",
    "Por lo pronto ingresaremos todos los datos conocidos así como sma y ema en ventanas de 10"
   ]
  },
  {
   "cell_type": "code",
   "execution_count": 8,
   "metadata": {},
   "outputs": [],
   "source": [
    "# X: [date, open, close, volume, ema, sma]\n",
    "ema = getEMA(10, df['close'])\n",
    "sma = getSMA(10, df['close'])\n",
    "n = len(ema) # debe ser len(df) - window\n",
    "# X = np.c_[dates[-n:-1], df['open'].values[-n:-1], df['close'].values[-n:-1], df['volume'].values[-n:-1], ema[:-1], sma[:-1]]\n",
    "# X = np.c_[df['open'].values[-n:-1], df['close'].values[-n:-1], df['volume'].values[-n:-1], ema[:-1], sma[:-1]]\n",
    "# Probando una aproximación distinta\n",
    "X = np.c_[dates[-n:-1], df['t'].values[-n:-1], ema[:-1], sma[:-1]]\n",
    "y = df['t'].values[1-n:].reshape(-1, 1)\n",
    "# Ahora agregamos un escalador\n",
    "x_scaler = MinMaxScaler().fit(X)\n",
    "y_scaler = MinMaxScaler().fit(y)\n",
    "x_train, x_test, y_train, y_test = train_test_split(x_scaler.transform(X), y_scaler.transform(y), test_size=0.35)\n"
   ]
  },
  {
   "cell_type": "code",
   "execution_count": 9,
   "metadata": {},
   "outputs": [
    {
     "name": "stdout",
     "output_type": "stream",
     "text": [
      "Scaled N:1432  train: 0.99467   Test: 0.99540  n_iter: 4\n"
     ]
    }
   ],
   "source": [
    "# Nuevamente con Bayes\n",
    "bayRidge = lm.BayesianRidge(tol=1e-6, compute_score=True)\n",
    "bayRidge.set_params(alpha_init=1, lambda_init=0.001)\n",
    "bayRidge.fit(x_train, y_train.reshape(-1))\n",
    "print('Scaled N:{}  train: {:.5f}   Test: {:.5f}  n_iter: {}'.format(n, bayRidge.score(x_train, y_train.reshape(-1)), bayRidge.score(x_test, y_test.reshape(-1)), bayRidge.n_iter_))\n",
    "y_bayes_data = pd.Series(y_scaler.inverse_transform(bayRidge.predict(x_scaler.transform(X)).reshape(-1, 1)).reshape(-1), index=dates[-len(y):])"
   ]
  },
  {
   "cell_type": "code",
   "execution_count": 10,
   "metadata": {},
   "outputs": [
    {
     "data": {
      "text/plain": [
       "[<matplotlib.lines.Line2D at 0x7ff64be60f60>]"
      ]
     },
     "execution_count": 10,
     "metadata": {},
     "output_type": "execute_result"
    },
    {
     "data": {
      "image/png": "[encoded data removed]",
      "text/plain": [
       "<Figure size 432x288 with 1 Axes>"
      ]
     },
     "metadata": {
      "needs_background": "light"
     },
     "output_type": "display_data"
    }
   ],
   "source": [
    "plt.plot(dates[-len(y_bayes_data):], y_bayes_data)\n",
    "plt.plot(dates, df['t'])"
   ]
  },
  {
   "cell_type": "markdown",
   "metadata": {},
   "source": [
    "Primero debemos obtener un modelo para la predicción de volumenes"
   ]
  },
  {
   "cell_type": "code",
   "execution_count": 34,
   "metadata": {},
   "outputs": [
    {
     "name": "stdout",
     "output_type": "stream",
     "text": [
      "Scaled N:1143  train: 0.05193   Test: 0.00694  n_iter: 6\n",
      "rbfSVR train: -0.09668   Test: -0.40174\n"
     ]
    }
   ],
   "source": [
    "X = np.array([df['volume'].values[i: i+5] for i in range(len(df) - 6)])\n",
    "y = np.array([df['volume'].values[i] for i in range(6, len(df))]).reshape(-1 , 1)\n",
    "# Definidos los arrays pasamos con los escalamientos\n",
    "x_scaler = MinMaxScaler().fit(X)\n",
    "y_scaler = MinMaxScaler().fit(y)\n",
    "# Ahora hacemos los splits de entrenamiento\n",
    "x_train, x_test, y_train, y_test = train_test_split(x_scaler.transform(X), y_scaler.transform(y), test_size=0.25)\n",
    "# Bayesiano\n",
    "# Nuevamente con Bayes\n",
    "bayRidge = lm.BayesianRidge(tol=1e-6, compute_score=True)\n",
    "bayRidge.set_params(alpha_init=1, lambda_init=0.001)\n",
    "bayRidge.fit(x_train, y_train.reshape(-1))\n",
    "print('Scaled N:{}  train: {:.5f}   Test: {:.5f}  n_iter: {}'.format(n, bayRidge.score(x_train, y_train.reshape(-1)), bayRidge.score(x_test, y_test.reshape(-1)), bayRidge.n_iter_))\n",
    "y_bayes_data = pd.Series(y_scaler.inverse_transform(bayRidge.predict(x_scaler.transform(X)).reshape(-1, 1)).reshape(-1), index=dates[-len(y):])\n",
    "\n",
    "svr_rbf = svm.SVR(kernel='rbf', C=20000, gamma=0.8)\n",
    "# Fitting data\n",
    "svr_rbf.fit(x_train, y_train.reshape(-1))\n",
    "print('rbfSVR train: {:.5f}   Test: {:.5f}'.format(svr_rbf.score(x_train, y_train.reshape(-1)), svr_rbf.score(x_test, y_test.reshape(-1))))\n",
    "y_svm_dates = tscaler.inverse_transform(svr_rbf.predict(x).reshape(-1, 1)) #, tscaler.inverse_transform(svr_poly.predict(x).reshape(-1, 1))"
   ]
  },
  {
   "cell_type": "markdown",
   "metadata": {},
   "source": [
    "Premisa: Calcular/Predecir los datos siguientes a partir de un modelo determinado basados en volumen, tendencia, ema y dates"
   ]
  },
  {
   "cell_type": "code",
   "execution_count": 91,
   "metadata": {},
   "outputs": [
    {
     "name": "stdout",
     "output_type": "stream",
     "text": [
      "Scaled N:1143  train: 0.96729   Test: 0.97046\n"
     ]
    }
   ],
   "source": [
    "# Train data sera el 80% de los datos\n",
    "N = int(0.8 * len(df))\n",
    "train_df = df.iloc[0:N]\n",
    "train_dates = dates[0:N]\n",
    "# Calculando EMA\n",
    "ema = getEMA(10, train_df['t'])\n",
    "n = len(ema) # debe ser len(df) - window\n",
    "# X: [date, t, volume, ema]\n",
    "X = np.c_[train_dates[-n:-1], ema.values[:-1], train_df['t'].values[-n:-1]]#, train_df['volume'].values[-n:]]\n",
    "y = train_df['t'].values[1-n:].reshape(-1, 1)\n",
    "# Escaladores\n",
    "x_scaler = MinMaxScaler().fit(X)\n",
    "y_scaler = MinMaxScaler().fit(y)\n",
    "# Ahora hacemos los splits de entrenamiento\n",
    "x_train, x_test, y_train, y_test = train_test_split(x_scaler.transform(X), y_scaler.transform(y), test_size=0.25)\n",
    "# Bayesiano\n",
    "# Nuevamente con Bayes\n",
    "bayRidge = lm.BayesianRidge(tol=1e-6, compute_score=True)\n",
    "bayRidge.set_params(alpha_init=1, lambda_init=0.001)\n",
    "bayRidge.fit(x_train, y_train.reshape(-1))\n",
    "print('Scaled N:{}  train: {:.5f}   Test: {:.5f}  n_iter: {}'.format(n, bayRidge.score(x_train, y_train.reshape(-1)), bayRidge.score(x_test, y_test.reshape(-1)), bayRidge.n_iter_))\n",
    "y_bayes_data = pd.Series(y_scaler.inverse_transform(bayRidge.predict(x_scaler.transform(X)).reshape(-1, 1)).reshape(-1), index=dates[-len(y):])\n",
    "# Ahora viene lo chido...\n",
    "test_df = df.iloc[N:]\n",
    "test_dates = dates[N:]\n",
    "# para el calculo de EMA\n",
    "x_tendency = df['t'].values[:N]\n",
    "y_bayes_test = []\n",
    "for k in range(len(test_df)-1):\n",
    "    # constructing series\n",
    "    try:\n",
    "        x_temp = pd.Series(x_tendency, index=dates[:N+k])\n",
    "        ema = getEMA(10, x_temp)\n",
    "        # Definiendo X\n",
    "        X = x_scaler.transform(np.array([test_dates[k], ema.values[-1], x_tendency[-1]]).reshape(1, -1))\n",
    "        temp = y_scaler.inverse_transform(bayRidge.predict(X).reshape(1, -1)).reshape(-1)\n",
    "        x_tendency = np.append(x_tendency, temp)\n",
    "        y_bayes_test.append(temp[0])\n",
    "    except ValueError:\n",
    "        break    \n"
   ]
  },
  {
   "cell_type": "code",
   "execution_count": 98,
   "metadata": {},
   "outputs": [
    {
     "data": {
      "image/png": "[encoded data removed]",
      "text/plain": [
       "<Figure size 432x288 with 1 Axes>"
      ]
     },
     "metadata": {
      "needs_background": "light"
     },
     "output_type": "display_data"
    }
   ],
   "source": [
    "plt.plot(train_dates[1-n:], y.reshape(-1))\n",
    "plt.plot(train_dates[1-n:], y_bayes_data.values.reshape(-1), label='model', color='g', alpha=0.6)\n",
    "plt.plot(dates, df['t'].values, label='all', alpha=0.8)\n",
    "plt.plot(test_dates[1:], y_bayes_test, color='cyan', alpha=0.6)\n",
    "plt.legend()\n",
    "xlim = plt.xlim()"
   ]
  },
  {
   "cell_type": "markdown",
   "metadata": {},
   "source": [
    "Intentando solo con los EMA en ventanas de 10"
   ]
  },
  {
   "cell_type": "code",
   "execution_count": null,
   "metadata": {},
   "outputs": [],
   "source": [
    "# Train data sera el 80% de los datos\n",
    "N = int(0.8 * len(df))\n",
    "train_df = df.iloc[0:N]\n",
    "train_dates = dates[0:N]\n",
    "# Calculando EMA\n",
    "ema = getEMA(10, train_df['t'])\n",
    "n = len(ema) # debe ser len(df) - window\n",
    "# X: [date, t, volume, ema]\n",
    "X = np.c_[train_dates[-n:-1], ema.values[:-1], train_df['t'].values[-n:-1]]#, train_df['volume'].values[-n:]]\n",
    "y = train_df['t'].values[1-n:].reshape(-1, 1)\n",
    "# Escaladores\n",
    "x_scaler = MinMaxScaler().fit(X)\n",
    "y_scaler = MinMaxScaler().fit(y)\n",
    "# Ahora hacemos los splits de entrenamiento\n",
    "x_train, x_test, y_train, y_test = train_test_split(x_scaler.transform(X), y_scaler.transform(y), test_size=0.25)\n",
    "# Bayesiano\n",
    "# Nuevamente con Bayes\n",
    "bayRidge = lm.BayesianRidge(tol=1e-6, compute_score=True)\n",
    "bayRidge.set_params(alpha_init=1, lambda_init=0.001)\n",
    "bayRidge.fit(x_train, y_train.reshape(-1))\n",
    "print('Scaled N:{}  train: {:.5f}   Test: {:.5f}  n_iter: {}'.format(n, bayRidge.score(x_train, y_train.reshape(-1)), bayRidge.score(x_test, y_test.reshape(-1)), bayRidge.n_iter_))\n",
    "y_bayes_data = pd.Series(y_scaler.inverse_transform(bayRidge.predict(x_scaler.transform(X)).reshape(-1, 1)).reshape(-1), index=dates[-len(y):])\n",
    "# Ahora viene lo chido...\n",
    "test_df = df.iloc[N:]\n",
    "test_dates = dates[N:]\n",
    "# para el calculo de EMA\n",
    "x_tendency = df['t'].values[:N]\n",
    "y_bayes_test = []\n",
    "for k in range(len(test_df)-1):\n",
    "    # constructing series\n",
    "    try:\n",
    "        x_temp = pd.Series(x_tendency, index=dates[:N+k])\n",
    "        ema = getEMA(10, x_temp)\n",
    "        # Definiendo X\n",
    "        X = x_scaler.transform(np.array([test_dates[k], ema.values[-1], x_tendency[-1]]).reshape(1, -1))\n",
    "        temp = y_scaler.inverse_transform(bayRidge.predict(X).reshape(1, -1)).reshape(-1)\n",
    "        x_tendency = np.append(x_tendency, temp)\n",
    "        y_bayes_test.append(temp[0])\n",
    "    except ValueError:\n",
    "        break    "
   ]
  }
 ],
 "metadata": {
  "kernelspec": {
   "display_name": "Python 3",
   "language": "python",
   "name": "python3"
  },
  "language_info": {
   "codemirror_mode": {
    "name": "ipython",
    "version": 3
   },
   "file_extension": ".py",
   "mimetype": "text/x-python",
   "name": "python",
   "nbconvert_exporter": "python",
   "pygments_lexer": "ipython3",
   "version": "3.6.9"
  }
 },
 "nbformat": 4,
 "nbformat_minor": 4
}
